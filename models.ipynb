{
 "cells": [
  {
   "cell_type": "code",
   "execution_count": 77,
   "metadata": {},
   "outputs": [],
   "source": [
    "# needed for GridSearch\n",
    "import warnings\n",
    "warnings.filterwarnings('ignore')\n",
    "import timeit\n",
    "\n",
    "import matplotlib.pyplot as plt\n",
    "import pandas as pd\n",
    "from sklearn.model_selection import train_test_split, GridSearchCV\n",
    "from sklearn import metrics\n",
    "from pathlib import Path\n",
    "from sklearn.linear_model import LogisticRegression\n",
    "from sklearn.tree import DecisionTreeClassifier\n",
    "from sklearn.tree import plot_tree\n",
    "from sklearn.ensemble import BaggingClassifier\n",
    "from sklearn.ensemble import RandomForestClassifier\n",
    "\n",
    "path = Path('data', 'weatherAUS_clean.csv')\n",
    "df = pd.read_csv(path)"
   ]
  },
  {
   "cell_type": "code",
   "execution_count": 46,
   "metadata": {},
   "outputs": [],
   "source": [
    "# split into train and test\n",
    "label = df.pop('RainTomorrow_Yes')\n",
    "train_X, test_X, train_y, test_y = train_test_split(df, label, test_size= 0.3)"
   ]
  },
  {
   "cell_type": "code",
   "execution_count": 56,
   "metadata": {},
   "outputs": [
    {
     "name": "stdout",
     "output_type": "stream",
     "text": [
      "Best parameters found:  {'C': 0.001, 'penalty': 'none', 'solver': 'newton-cg'}\n",
      "Mean-CV accuracy: 0.853\n",
      "              precision    recall  f1-score   support\n",
      "\n",
      "           0      0.871     0.945     0.906     18177\n",
      "           1      0.745     0.536     0.623      5472\n",
      "\n",
      "    accuracy                          0.850     23649\n",
      "   macro avg      0.808     0.740     0.765     23649\n",
      "weighted avg      0.842     0.850     0.841     23649\n",
      "\n"
     ]
    }
   ],
   "source": [
    "# Logistic Regression\n",
    "\n",
    "# different values for most important hyper-parameters\n",
    "parameter_space = {\n",
    "    'solver': ['newton-cg', 'lbfgs', 'liblinear'],\n",
    "    'penalty': ['none', '11', '12', 'elasticnet'],\n",
    "    'C': [0.001, 1, 1000],\n",
    "}\n",
    "\n",
    "clf = LogisticRegression()\n",
    "clf = GridSearchCV(clf, parameter_space, n_jobs=-1, cv=5)\n",
    "start = timeit.default_timer()\n",
    "clf.fit(train_X, train_y)\n",
    "stop = timeit.default_timer()\n",
    "\n",
    "print('Runtime: %0.0f seconds' % (stop - start))\n",
    "print('Best parameters found: ', clf.best_params_)\n",
    "print('Mean-CV accuracy: %0.3f' % clf.best_score_)\n",
    "\n",
    "predicitons = clf.predict(test_X)\n",
    "print(metrics.classification_report(test_y, predicitons, digits=3))\n"
   ]
  },
  {
   "cell_type": "code",
   "execution_count": 54,
   "outputs": [
    {
     "name": "stdout",
     "output_type": "stream",
     "text": [
      "Runtime: 88 seconds\n",
      "Best parameters found:  {'criterion': 'entropy', 'max_depth': 10, 'max_leaf_nodes': 100, 'min_samples_split': 2, 'splitter': 'best'}\n",
      "Mean-CV accuracy: 0.843\n",
      "              precision    recall  f1-score   support\n",
      "\n",
      "           0      0.863     0.938     0.899     18177\n",
      "           1      0.710     0.505     0.590      5472\n",
      "\n",
      "    accuracy                          0.838     23649\n",
      "   macro avg      0.787     0.721     0.744     23649\n",
      "weighted avg      0.828     0.838     0.827     23649\n",
      "\n"
     ]
    }
   ],
   "source": [
    "# Decision Tree\n",
    "\n",
    "parameter_space = {\n",
    "    'criterion':['gini', 'entropy', 'log_loss'],\n",
    "    'splitter': ['best', 'random'],\n",
    "    'max_depth': ['None', 5, 10, 20],\n",
    "    'min_samples_split': [2, 3, 4],\n",
    "    'max_leaf_nodes': ['None', 30, 50, 100],\n",
    "}\n",
    "\n",
    "clf = DecisionTreeClassifier()\n",
    "clf = GridSearchCV(clf, parameter_space, n_jobs=-1, cv=5)\n",
    "start = timeit.default_timer()\n",
    "clf.fit(train_X, train_y)\n",
    "stop = timeit.default_timer()\n",
    "\n",
    "print('Runtime: %0.0f seconds' % (stop - start))\n",
    "print('Best parameters found: ', clf.best_params_)\n",
    "print('Mean-CV accuracy: %0.3f' % clf.best_score_)\n",
    "\n",
    "predicitons = clf.predict(test_X)\n",
    "print(metrics.classification_report(test_y, predicitons, digits=3))"
   ],
   "metadata": {
    "collapsed": false,
    "pycharm": {
     "name": "#%%\n"
    }
   }
  },
  {
   "cell_type": "code",
   "execution_count": 73,
   "outputs": [
    {
     "data": {
      "text/plain": "[Text(0.5, 0.875, 'X[11] <= 0.675\\nentropy = 0.77\\nsamples = 55179\\nvalue = [42751, 12428]'),\n Text(0.25, 0.625, 'X[6] <= 0.645\\nentropy = 0.56\\nsamples = 43950\\nvalue = [38203, 5747]'),\n Text(0.125, 0.375, 'X[7] <= 0.325\\nentropy = 0.699\\nsamples = 26336\\nvalue = [21363, 4973]'),\n Text(0.0625, 0.125, '\\n  (...)  \\n'),\n Text(0.1875, 0.125, '\\n  (...)  \\n'),\n Text(0.375, 0.375, 'X[13] <= 0.507\\nentropy = 0.26\\nsamples = 17614\\nvalue = [16840, 774]'),\n Text(0.3125, 0.125, '\\n  (...)  \\n'),\n Text(0.4375, 0.125, '\\n  (...)  \\n'),\n Text(0.75, 0.625, 'X[11] <= 0.815\\nentropy = 0.974\\nsamples = 11229\\nvalue = [4548, 6681]'),\n Text(0.625, 0.375, 'X[7] <= 0.325\\nentropy = 0.996\\nsamples = 7056\\nvalue = [3806, 3250]'),\n Text(0.5625, 0.125, '\\n  (...)  \\n'),\n Text(0.6875, 0.125, '\\n  (...)  \\n'),\n Text(0.875, 0.375, 'X[13] <= 0.567\\nentropy = 0.675\\nsamples = 4173\\nvalue = [742, 3431]'),\n Text(0.8125, 0.125, '\\n  (...)  \\n'),\n Text(0.9375, 0.125, '\\n  (...)  \\n')]"
     },
     "execution_count": 73,
     "metadata": {},
     "output_type": "execute_result"
    },
    {
     "data": {
      "text/plain": "<Figure size 640x480 with 1 Axes>",
      "image/png": "[encoded data removed]"
     },
     "metadata": {},
     "output_type": "display_data"
    }
   ],
   "source": [
    "tree = DecisionTreeClassifier(criterion='entropy', splitter='best', max_depth=10, max_leaf_nodes= 100, min_samples_split=2)\n",
    "tree.fit(train_X, train_y)\n",
    "#plt.figure(figsize=(50,50))\n",
    "plot_tree(tree, max_depth=2)\n"
   ],
   "metadata": {
    "collapsed": false,
    "pycharm": {
     "name": "#%%\n"
    }
   }
  },
  {
   "cell_type": "code",
   "execution_count": 85,
   "outputs": [
    {
     "name": "stdout",
     "output_type": "stream",
     "text": [
      "Runtime: 505 seconds\n",
      "Best parameters found:  {'max_features': 1.0, 'n_estimators': 200}\n",
      "Mean-CV accuracy: 0.861\n",
      "              precision    recall  f1-score   support\n",
      "\n",
      "           0      0.874     0.950     0.911     18177\n",
      "           1      0.767     0.546     0.638      5472\n",
      "\n",
      "    accuracy                          0.856     23649\n",
      "   macro avg      0.820     0.748     0.774     23649\n",
      "weighted avg      0.849     0.856     0.847     23649\n",
      "\n"
     ]
    }
   ],
   "source": [
    "# Bagged Tree\n",
    "\n",
    "parameter_space = {\n",
    "    'n_estimators' : [10, 50, 100, 200],\n",
    "    'max_features' : [1, 0.5, 1.0, 10.0, 10],\n",
    "}\n",
    "\n",
    "clf = BaggingClassifier()\n",
    "clf = GridSearchCV(clf, parameter_space, n_jobs=-1, cv=5)\n",
    "start = timeit.default_timer()\n",
    "clf.fit(train_X, train_y)\n",
    "stop = timeit.default_timer()\n",
    "\n",
    "print('Runtime: %0.0f seconds' % (stop - start))\n",
    "print('Best parameters found: ', clf.best_params_)\n",
    "print('Mean-CV accuracy: %0.3f' % clf.best_score_)\n",
    "\n",
    "predicitons = clf.predict(test_X)\n",
    "print(metrics.classification_report(test_y, predicitons, digits=3))"
   ],
   "metadata": {
    "collapsed": false,
    "pycharm": {
     "name": "#%%\n"
    }
   }
  },
  {
   "cell_type": "code",
   "execution_count": 84,
   "outputs": [
    {
     "name": "stdout",
     "output_type": "stream",
     "text": [
      "Runtime: 329 seconds\n",
      "Best parameters found:  {'max_features': 'sqrt', 'n_estimators': 200}\n",
      "Mean-CV accuracy: 0.861\n",
      "              precision    recall  f1-score   support\n",
      "\n",
      "           0      0.869     0.957     0.911     18177\n",
      "           1      0.783     0.520     0.625      5472\n",
      "\n",
      "    accuracy                          0.856     23649\n",
      "   macro avg      0.826     0.738     0.768     23649\n",
      "weighted avg      0.849     0.856     0.845     23649\n",
      "\n"
     ]
    }
   ],
   "source": [
    "# Random Forest\n",
    "\n",
    "parameter_space = {\n",
    "    'n_estimators' : [10, 50, 100, 200],\n",
    "    'max_features' : ['sqrt', 'log2', None],\n",
    "}\n",
    "\n",
    "clf = RandomForestClassifier()\n",
    "clf = GridSearchCV(clf, parameter_space, n_jobs=-1, cv=5)\n",
    "start = timeit.default_timer()\n",
    "clf.fit(train_X, train_y)\n",
    "stop = timeit.default_timer()\n",
    "\n",
    "print('Runtime: %0.0f seconds' % (stop - start))\n",
    "print('Best parameters found: ', clf.best_params_)\n",
    "print('Mean-CV accuracy: %0.3f' % clf.best_score_)\n",
    "\n",
    "predicitons = clf.predict(test_X)\n",
    "print(metrics.classification_report(test_y, predicitons, digits=3))"
   ],
   "metadata": {
    "collapsed": false,
    "pycharm": {
     "name": "#%%\n"
    }
   }
  }
 ],
 "metadata": {
  "kernelspec": {
   "display_name": "Python 3",
   "language": "python",
   "name": "python3"
  },
  "language_info": {
   "codemirror_mode": {
    "name": "ipython",
    "version": 3
   },
   "file_extension": ".py",
   "mimetype": "text/x-python",
   "name": "python",
   "nbconvert_exporter": "python",
   "pygments_lexer": "ipython3",
   "version": "3.11.1"
  },
  "orig_nbformat": 4,
  "vscode": {
   "interpreter": {
    "hash": "1bf8736694c2f6df7f978cfd7b16aec437612a632722132e753d8ebb9106c912"
   }
  }
 },
 "nbformat": 4,
 "nbformat_minor": 2
}