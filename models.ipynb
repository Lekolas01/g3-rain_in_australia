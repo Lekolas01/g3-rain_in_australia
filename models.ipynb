{
 "cells": [
  {
   "cell_type": "code",
   "execution_count": 86,
   "metadata": {},
   "outputs": [],
   "source": [
    "# needed for GridSearch\n",
    "import warnings\n",
    "warnings.filterwarnings('ignore')\n",
    "import timeit\n",
    "\n",
    "import matplotlib.pyplot as plt\n",
    "import pandas as pd\n",
    "from sklearn.model_selection import train_test_split, GridSearchCV\n",
    "from sklearn import metrics\n",
    "from pathlib import Path\n",
    "from sklearn.linear_model import LogisticRegression\n",
    "from sklearn.tree import DecisionTreeClassifier\n",
    "from sklearn.tree import plot_tree\n",
    "from sklearn.ensemble import BaggingClassifier\n",
    "from sklearn.ensemble import RandomForestClassifier\n",
    "\n",
    "path = Path('data', 'weatherAUS_clean.csv')\n",
    "df = pd.read_csv(path)"
   ]
  },
  {
   "cell_type": "code",
   "execution_count": 87,
   "metadata": {},
   "outputs": [],
   "source": [
    "# split into train and test\n",
    "label = df.pop('RainTomorrow_Yes')\n",
    "train_X, test_X, train_y, test_y = train_test_split(df, label, test_size= 0.3)"
   ]
  },
  {
   "cell_type": "code",
   "execution_count": 88,
   "metadata": {},
   "outputs": [
    {
     "name": "stdout",
     "output_type": "stream",
     "text": [
      "Runtime: 168 seconds\n",
      "Best parameters found:  {'C': 0.001, 'penalty': 'none', 'solver': 'newton-cg'}\n",
      "Mean-CV accuracy: 0.852\n",
      "              precision    recall  f1-score   support\n",
      "\n",
      "           0      0.875     0.947     0.909     28663\n",
      "           1      0.745     0.536     0.624      8348\n",
      "\n",
      "    accuracy                          0.854     37011\n",
      "   macro avg      0.810     0.742     0.767     37011\n",
      "weighted avg      0.846     0.854     0.845     37011\n",
      "\n"
     ]
    }
   ],
   "source": [
    "# Logistic Regression\n",
    "\n",
    "# different values for most important hyper-parameters\n",
    "parameter_space = {\n",
    "    'solver': ['newton-cg', 'lbfgs', 'liblinear'],\n",
    "    'penalty': ['none', '11', '12', 'elasticnet'],\n",
    "    'C': [0.001, 1, 1000],\n",
    "}\n",
    "\n",
    "clf = LogisticRegression()\n",
    "clf = GridSearchCV(clf, parameter_space, n_jobs=-1, cv=5)\n",
    "start = timeit.default_timer()\n",
    "clf.fit(train_X, train_y)\n",
    "stop = timeit.default_timer()\n",
    "\n",
    "print('Runtime: %0.0f seconds' % (stop - start))\n",
    "print('Best parameters found: ', clf.best_params_)\n",
    "print('Mean-CV accuracy: %0.3f' % clf.best_score_)\n",
    "\n",
    "predicitons = clf.predict(test_X)\n",
    "print(metrics.classification_report(test_y, predicitons, digits=3))\n"
   ]
  },
  {
   "cell_type": "code",
   "execution_count": 89,
   "outputs": [
    {
     "name": "stdout",
     "output_type": "stream",
     "text": [
      "Runtime: 142 seconds\n",
      "Best parameters found:  {'criterion': 'entropy', 'max_depth': 10, 'max_leaf_nodes': 100, 'min_samples_split': 2, 'splitter': 'best'}\n",
      "Mean-CV accuracy: 0.842\n",
      "              precision    recall  f1-score   support\n",
      "\n",
      "           0      0.864     0.944     0.902     28663\n",
      "           1      0.717     0.490     0.582      8348\n",
      "\n",
      "    accuracy                          0.841     37011\n",
      "   macro avg      0.791     0.717     0.742     37011\n",
      "weighted avg      0.831     0.841     0.830     37011\n",
      "\n"
     ]
    }
   ],
   "source": [
    "# Decision Tree\n",
    "\n",
    "parameter_space = {\n",
    "    'criterion':['gini', 'entropy', 'log_loss'],\n",
    "    'splitter': ['best', 'random'],\n",
    "    'max_depth': ['None', 5, 10, 20],\n",
    "    'min_samples_split': [2, 3, 4],\n",
    "    'max_leaf_nodes': ['None', 30, 50, 100],\n",
    "}\n",
    "\n",
    "clf = DecisionTreeClassifier()\n",
    "clf = GridSearchCV(clf, parameter_space, n_jobs=-1, cv=5)\n",
    "start = timeit.default_timer()\n",
    "clf.fit(train_X, train_y)\n",
    "stop = timeit.default_timer()\n",
    "\n",
    "print('Runtime: %0.0f seconds' % (stop - start))\n",
    "print('Best parameters found: ', clf.best_params_)\n",
    "print('Mean-CV accuracy: %0.3f' % clf.best_score_)\n",
    "\n",
    "predicitons = clf.predict(test_X)\n",
    "print(metrics.classification_report(test_y, predicitons, digits=3))"
   ],
   "metadata": {
    "collapsed": false,
    "pycharm": {
     "name": "#%%\n"
    }
   }
  },
  {
   "cell_type": "code",
   "execution_count": 90,
   "outputs": [
    {
     "data": {
      "text/plain": "[Text(0.5, 0.875, 'X[18] <= 0.736\\nentropy = 0.767\\nsamples = 86358\\nvalue = [67014, 19344]'),\n Text(0.25, 0.625, 'X[7] <= -0.021\\nentropy = 0.549\\nsamples = 66290\\nvalue = [57877, 8413]'),\n Text(0.125, 0.375, 'X[20] <= -0.116\\nentropy = 0.844\\nsamples = 12778\\nvalue = [9308, 3470]'),\n Text(0.0625, 0.125, '\\n  (...)  \\n'),\n Text(0.1875, 0.125, '\\n  (...)  \\n'),\n Text(0.375, 0.375, 'X[18] <= -0.006\\nentropy = 0.444\\nsamples = 53512\\nvalue = [48569, 4943]'),\n Text(0.3125, 0.125, '\\n  (...)  \\n'),\n Text(0.4375, 0.125, '\\n  (...)  \\n'),\n Text(0.75, 0.625, 'X[18] <= 1.46\\nentropy = 0.994\\nsamples = 20068\\nvalue = [9137, 10931]'),\n Text(0.625, 0.375, 'X[10] <= 0.119\\nentropy = 0.978\\nsamples = 13382\\nvalue = [7848, 5534]'),\n Text(0.5625, 0.125, '\\n  (...)  \\n'),\n Text(0.6875, 0.125, '\\n  (...)  \\n'),\n Text(0.875, 0.375, 'X[18] <= 1.701\\nentropy = 0.707\\nsamples = 6686\\nvalue = [1289, 5397]'),\n Text(0.8125, 0.125, '\\n  (...)  \\n'),\n Text(0.9375, 0.125, '\\n  (...)  \\n')]"
     },
     "execution_count": 90,
     "metadata": {},
     "output_type": "execute_result"
    },
    {
     "data": {
      "text/plain": "<Figure size 640x480 with 1 Axes>",
      "image/png": "[encoded data removed]"
     },
     "metadata": {},
     "output_type": "display_data"
    }
   ],
   "source": [
    "tree = DecisionTreeClassifier(criterion='entropy', splitter='best', max_depth=10, max_leaf_nodes= 100, min_samples_split=2)\n",
    "tree.fit(train_X, train_y)\n",
    "#plt.figure(figsize=(50,50))\n",
    "plot_tree(tree, max_depth=2)\n"
   ],
   "metadata": {
    "collapsed": false,
    "pycharm": {
     "name": "#%%\n"
    }
   }
  },
  {
   "cell_type": "code",
   "execution_count": 91,
   "outputs": [
    {
     "name": "stdout",
     "output_type": "stream",
     "text": [
      "Runtime: 914 seconds\n",
      "Best parameters found:  {'max_features': 1.0, 'n_estimators': 100}\n",
      "Mean-CV accuracy: 0.860\n",
      "              precision    recall  f1-score   support\n",
      "\n",
      "           0      0.878     0.954     0.914     28663\n",
      "           1      0.774     0.545     0.640      8348\n",
      "\n",
      "    accuracy                          0.862     37011\n",
      "   macro avg      0.826     0.749     0.777     37011\n",
      "weighted avg      0.855     0.862     0.852     37011\n",
      "\n"
     ]
    }
   ],
   "source": [
    "# Bagged Tree\n",
    "\n",
    "parameter_space = {\n",
    "    'n_estimators' : [10, 50, 100, 200],\n",
    "    'max_features' : [1, 0.5, 1.0, 10.0, 10],\n",
    "}\n",
    "\n",
    "clf = BaggingClassifier()\n",
    "clf = GridSearchCV(clf, parameter_space, n_jobs=-1, cv=5)\n",
    "start = timeit.default_timer()\n",
    "clf.fit(train_X, train_y)\n",
    "stop = timeit.default_timer()\n",
    "\n",
    "print('Runtime: %0.0f seconds' % (stop - start))\n",
    "print('Best parameters found: ', clf.best_params_)\n",
    "print('Mean-CV accuracy: %0.3f' % clf.best_score_)\n",
    "\n",
    "predicitons = clf.predict(test_X)\n",
    "print(metrics.classification_report(test_y, predicitons, digits=3))"
   ],
   "metadata": {
    "collapsed": false,
    "pycharm": {
     "name": "#%%\n"
    }
   }
  },
  {
   "cell_type": "code",
   "execution_count": 92,
   "outputs": [
    {
     "name": "stdout",
     "output_type": "stream",
     "text": [
      "Runtime: 596 seconds\n",
      "Best parameters found:  {'max_features': 'sqrt', 'n_estimators': 200}\n",
      "Mean-CV accuracy: 0.860\n",
      "              precision    recall  f1-score   support\n",
      "\n",
      "           0      0.875     0.960     0.916     28663\n",
      "           1      0.795     0.528     0.635      8348\n",
      "\n",
      "    accuracy                          0.863     37011\n",
      "   macro avg      0.835     0.744     0.775     37011\n",
      "weighted avg      0.857     0.863     0.852     37011\n",
      "\n"
     ]
    }
   ],
   "source": [
    "# Random Forest\n",
    "\n",
    "parameter_space = {\n",
    "    'n_estimators' : [10, 50, 100, 200],\n",
    "    'max_features' : ['sqrt', 'log2', None],\n",
    "}\n",
    "\n",
    "clf = RandomForestClassifier()\n",
    "clf = GridSearchCV(clf, parameter_space, n_jobs=-1, cv=5)\n",
    "start = timeit.default_timer()\n",
    "clf.fit(train_X, train_y)\n",
    "stop = timeit.default_timer()\n",
    "\n",
    "print('Runtime: %0.0f seconds' % (stop - start))\n",
    "print('Best parameters found: ', clf.best_params_)\n",
    "print('Mean-CV accuracy: %0.3f' % clf.best_score_)\n",
    "\n",
    "predicitons = clf.predict(test_X)\n",
    "print(metrics.classification_report(test_y, predicitons, digits=3))"
   ],
   "metadata": {
    "collapsed": false,
    "pycharm": {
     "name": "#%%\n"
    }
   }
  }
 ],
 "metadata": {
  "kernelspec": {
   "display_name": "Python 3",
   "language": "python",
   "name": "python3"
  },
  "language_info": {
   "codemirror_mode": {
    "name": "ipython",
    "version": 3
   },
   "file_extension": ".py",
   "mimetype": "text/x-python",
   "name": "python",
   "nbconvert_exporter": "python",
   "pygments_lexer": "ipython3",
   "version": "3.11.1"
  },
  "orig_nbformat": 4,
  "vscode": {
   "interpreter": {
    "hash": "1bf8736694c2f6df7f978cfd7b16aec437612a632722132e753d8ebb9106c912"
   }
  }
 },
 "nbformat": 4,
 "nbformat_minor": 2
}